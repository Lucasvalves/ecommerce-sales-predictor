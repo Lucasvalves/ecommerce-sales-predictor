{
 "cells": [
  {
   "cell_type": "code",
   "execution_count": 15,
   "id": "37205bab",
   "metadata": {},
   "outputs": [],
   "source": [
    "import pandas as pd\n",
    "from sklearn.linear_model import LinearRegression\n",
    "from sklearn.ensemble import RandomForestRegressor\n",
    "from sklearn.model_selection import train_test_split\n",
    "from sklearn.metrics import mean_squared_error, r2_score\n",
    "import numpy as np "
   ]
  },
  {
   "cell_type": "code",
   "execution_count": null,
   "id": "4e89ca29",
   "metadata": {},
   "outputs": [
    {
     "name": "stdout",
     "output_type": "stream",
     "text": [
      "\n",
      "Regressão Linear:\n",
      "RMSE: 303.10\n",
      "R²: 0.75\n",
      "\n",
      "Random Forest:\n",
      "RMSE: 426.43\n",
      "R²: 0.50\n"
     ]
    }
   ],
   "source": [
    "df = pd.read_csv('../data/ecommerce_clean.csv', encoding='latin1') \n",
    "\n",
    "# 1. Feature Engineering\n",
    "df['InvoiceDate'] = pd.to_datetime(df['InvoiceDate'])\n",
    "df['Month'] = df['InvoiceDate'].dt.month\n",
    "df['DayOfWeek'] = df['InvoiceDate'].dt.dayofweek\n",
    "\n",
    "# 2. Definir variáveis\n",
    "X = df[['Quantity', 'UnitPrice', 'Month', 'DayOfWeek']]\n",
    "y = df['TotalSales']\n",
    "\n",
    "# 3. Dividir dados em treino/teste\n",
    "X_train, X_test, y_train, y_test = train_test_split(X, y, test_size=0.2, random_state=42)\n",
    "\n",
    "# 4. Regressão Linear\n",
    "lr_model = LinearRegression()\n",
    "lr_model.fit(X_train, y_train)\n",
    "y_pred_lr = lr_model.predict(X_test)\n",
    "\n",
    "# 5. Random Forest\n",
    "rf_model = RandomForestRegressor(random_state=42)\n",
    "rf_model.fit(X_train, y_train)\n",
    "y_pred_rf = rf_model.predict(X_test)\n",
    "\n",
    "# 6. Avaliação\n",
    "print(\"\\nRegressão Linear:\")\n",
    "print(f\"RMSE: {np.sqrt(mean_squared_error(y_test, y_pred_lr)):.2f}\") \n",
    "print(f\"R²: {r2_score(y_test, y_pred_lr):.2f}\")\n",
    "\n",
    "print(\"\\nRandom Forest:\")\n",
    "print(f\"RMSE: {np.sqrt(mean_squared_error(y_test, y_pred_rf)):.2f}\") \n",
    "print(f\"R²: {r2_score(y_test, y_pred_rf):.2f}\")"
   ]
  }
 ],
 "metadata": {
  "kernelspec": {
   "display_name": ".venv",
   "language": "python",
   "name": "python3"
  },
  "language_info": {
   "codemirror_mode": {
    "name": "ipython",
    "version": 3
   },
   "file_extension": ".py",
   "mimetype": "text/x-python",
   "name": "python",
   "nbconvert_exporter": "python",
   "pygments_lexer": "ipython3",
   "version": "3.11.2"
  }
 },
 "nbformat": 4,
 "nbformat_minor": 5
}
