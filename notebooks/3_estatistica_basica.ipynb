{
 "cells": [
  {
   "cell_type": "code",
   "execution_count": 2,
   "id": "2f7c7c32",
   "metadata": {},
   "outputs": [],
   "source": [
    "import pandas as pd\n",
    "from scipy.stats import ttest_ind"
   ]
  },
  {
   "cell_type": "code",
   "execution_count": null,
   "id": "1466b944",
   "metadata": {},
   "outputs": [
    {
     "name": "stdout",
     "output_type": "stream",
     "text": [
      "\n",
      "Teste t: p-value = 0.0000\n",
      "Diferença estatisticamente significativa (Reino Unido ≠ Alemanha)\n"
     ]
    }
   ],
   "source": [
    "\n",
    "df = pd.read_csv('../data/ecommerce_clean.csv', encoding='latin1') \n",
    "\n",
    "# 1. Hipótese: Vendas no Reino Unido são maiores que na Alemanha?\n",
    "uk_sales = df[df['Country'] == 'United Kingdom']['TotalSales']\n",
    "germany_sales = df[df['Country'] == 'Germany']['TotalSales']\n",
    "\n",
    "#2. Teste t (amostras independentes)\n",
    "t_stat, p_value = ttest_ind(uk_sales, germany_sales, equal_var=False)\n",
    "print(f\"\\nTeste t: p-value = {p_value:.4f}\")\n",
    "\n",
    "if p_value < 0.05:\n",
    "    print(\"Diferença estatisticamente significativa (Reino Unido ≠ Alemanha)\")\n",
    "else:\n",
    "    print(\"Sem diferença significativa\")"
   ]
  }
 ],
 "metadata": {
  "kernelspec": {
   "display_name": ".venv",
   "language": "python",
   "name": "python3"
  },
  "language_info": {
   "codemirror_mode": {
    "name": "ipython",
    "version": 3
   },
   "file_extension": ".py",
   "mimetype": "text/x-python",
   "name": "python",
   "nbconvert_exporter": "python",
   "pygments_lexer": "ipython3",
   "version": "3.11.2"
  }
 },
 "nbformat": 4,
 "nbformat_minor": 5
}
